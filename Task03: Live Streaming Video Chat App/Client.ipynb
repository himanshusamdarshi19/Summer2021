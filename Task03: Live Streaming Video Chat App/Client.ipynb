{
 "cells": [
  {
   "cell_type": "markdown",
   "id": "454d1a2f",
   "metadata": {},
   "source": [
    "# Task 03: Create Live Streaming Video Chat App without voice using cv2 module of Python"
   ]
  },
  {
   "cell_type": "markdown",
   "id": "4c53a18e",
   "metadata": {},
   "source": [
    "<h2><center><b>Client Side Program</b></center></h2>"
   ]
  },
  {
   "cell_type": "code",
   "execution_count": null,
   "id": "59eb7194",
   "metadata": {},
   "outputs": [],
   "source": [
    "# lets make the client code\n",
    "import socket,cv2, pickle,struct\n",
    "\n",
    "# create socket\n",
    "client_socket = socket.socket(socket.AF_INET,socket.SOCK_STREAM)\n",
    "host_ip = '192.168.99.1' # paste your server ip address here\n",
    "port = 9999\n",
    "# Socket Bind\n",
    "client_socket.connect((host_ip,port)) # a tuple\n",
    "data = b\"\"\n",
    "payload_size = struct.calcsize(\"Q\")\n",
    "while True:\n",
    "    while len(data) < payload_size:\n",
    "        # Receive data from server\n",
    "        packet = client_socket.recv(4*1024) # 4K\n",
    "        if not packet: break\n",
    "        data+=packet\n",
    "    packed_msg_size = data[:payload_size]\n",
    "    data = data[payload_size:]\n",
    "    msg_size = struct.unpack(\"Q\",packed_msg_size)[0]\n",
    "\n",
    "    while len(data) < msg_size:\n",
    "        data += client_socket.recv(4*1024)\n",
    "    frame_data = data[:msg_size]\n",
    "    data  = data[msg_size:]\n",
    "    frame = pickle.loads(frame_data)\n",
    "    cv2.imshow(\"RECEIVING VIDEO\",frame)\n",
    "    key = cv2.waitKey(1) #& 0xFF\n",
    "    if key == ord('q'):\n",
    "        client_socket.close()\n",
    "        break\n",
    "cv2.destroyAllWindows()  "
   ]
  },
  {
   "cell_type": "markdown",
   "id": "8ae268be",
   "metadata": {},
   "source": [
    "<h2><p><center>My Client Program Connecting to my Mobile Webcam</center></p></h2>"
   ]
  },
  {
   "cell_type": "code",
   "execution_count": null,
   "id": "41ebb99e",
   "metadata": {},
   "outputs": [],
   "source": [
    "import urllib.request\n",
    "import cv2\n",
    "import numpy as np\n",
    "url=input(\"Enter Your URL:\")\n",
    "#url='http://100.80.160.246:8080/shot.jpg'\n",
    "\n",
    "while True:\n",
    "    imgResp=urllib.request.urlopen(url)\n",
    "    imgNp=np.array(bytearray(imgResp.read()),dtype=np.uint8)\n",
    "    img=cv2.imdecode(imgNp,-1)\n",
    "\n",
    "    # all the opencv processing is done here\n",
    "    cv2.imshow('test',img)\n",
    "    key=cv2.waitKey(1)\n",
    "    if key == ord('q'):\n",
    "        break\n",
    "cv2.destroyAllWindows()"
   ]
  },
  {
   "cell_type": "code",
   "execution_count": null,
   "id": "e3197ab2",
   "metadata": {},
   "outputs": [],
   "source": []
  }
 ],
 "metadata": {
  "kernelspec": {
   "display_name": "Python 3",
   "language": "python",
   "name": "python3"
  },
  "language_info": {
   "codemirror_mode": {
    "name": "ipython",
    "version": 3
   },
   "file_extension": ".py",
   "mimetype": "text/x-python",
   "name": "python",
   "nbconvert_exporter": "python",
   "pygments_lexer": "ipython3",
   "version": "3.8.3"
  }
 },
 "nbformat": 4,
 "nbformat_minor": 5
}
