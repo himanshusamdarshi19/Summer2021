{
 "cells": [
  {
   "cell_type": "markdown",
   "id": "69460f2c",
   "metadata": {},
   "source": [
    "# Task 03: Create Live Streaming Video Chat App without voice using cv2 module of Python"
   ]
  },
  {
   "cell_type": "markdown",
   "id": "d456438b",
   "metadata": {},
   "source": [
    "<h2><center><b>Server Side Program</b></center></h2>"
   ]
  },
  {
   "cell_type": "code",
   "execution_count": null,
   "id": "bd2c8016",
   "metadata": {},
   "outputs": [],
   "source": [
    "# Import Modules\n",
    "import socket\n",
    "import pickle\n",
    "import cv2\n",
    "import threading"
   ]
  },
  {
   "cell_type": "code",
   "execution_count": null,
   "id": "0a5679a0",
   "metadata": {},
   "outputs": [],
   "source": [
    "import struct,imutils\n",
    "\n",
    "# Socket Create\n",
    "server_socket = socket.socket(socket.AF_INET,socket.SOCK_STREAM)\n",
    "host_name  = socket.gethostname()\n",
    "host_ip = socket.gethostbyname(host_name)\n",
    "print('HOST IP:',host_ip)\n",
    "port = 9999\n",
    "socket_address = (host_ip,port)\n",
    "\n",
    "# Socket Bind\n",
    "server_socket.bind(socket_address)\n",
    "\n",
    "# Socket Listen\n",
    "server_socket.listen(5)\n",
    "print(\"LISTENING AT:\",socket_address)\n",
    "\n",
    "# Socket Accept\n",
    "while True:\n",
    "    client_socket,addr = server_socket.accept()\n",
    "    print('GOT CONNECTION FROM:',addr)\n",
    "    if client_socket:\n",
    "        vid = cv2.VideoCapture(0)\n",
    "\n",
    "        while(vid.isOpened()):\n",
    "            img,frame = vid.read()\n",
    "            frame = imutils.resize(frame,width=320)\n",
    "            a = pickle.dumps(frame)\n",
    "            message = struct.pack(\"Q\",len(a))+a\n",
    "            client_socket.sendall(message)\n",
    "            cv2.imshow('TRANSMITTING VIDEO',frame)\n",
    "            key = cv2.waitKey(1) & 0xFF\n",
    "            if key == ord('q'):\n",
    "                server_socket.close()\n",
    "                client_socket.close()\n",
    "                break\n",
    "        cv2.destroyAllWindows()\n",
    "            #if key  == 13:\n",
    "                #client_socket.close()\n",
    "                #break\n",
    "        #cv2.destroyAllWindows()  \n",
    "            \n"
   ]
  },
  {
   "cell_type": "code",
   "execution_count": null,
   "id": "00551b94",
   "metadata": {},
   "outputs": [],
   "source": []
  },
  {
   "cell_type": "code",
   "execution_count": null,
   "id": "5bcbb3b0",
   "metadata": {},
   "outputs": [],
   "source": [
    "   "
   ]
  },
  {
   "cell_type": "code",
   "execution_count": null,
   "id": "52d1e15b",
   "metadata": {},
   "outputs": [],
   "source": []
  }
 ],
 "metadata": {
  "kernelspec": {
   "display_name": "Python 3",
   "language": "python",
   "name": "python3"
  },
  "language_info": {
   "codemirror_mode": {
    "name": "ipython",
    "version": 3
   },
   "file_extension": ".py",
   "mimetype": "text/x-python",
   "name": "python",
   "nbconvert_exporter": "python",
   "pygments_lexer": "ipython3",
   "version": "3.8.3"
  }
 },
 "nbformat": 4,
 "nbformat_minor": 5
}
