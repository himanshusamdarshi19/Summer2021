{
 "cells": [
  {
   "cell_type": "markdown",
   "id": "f1164b06",
   "metadata": {},
   "source": [
    "# Task 4.1: Create you own Image using Python Code"
   ]
  },
  {
   "cell_type": "code",
   "execution_count": 1,
   "id": "8caa6b3e",
   "metadata": {},
   "outputs": [],
   "source": [
    "import cv2\n",
    "import numpy"
   ]
  },
  {
   "cell_type": "code",
   "execution_count": 2,
   "id": "e5f15528",
   "metadata": {},
   "outputs": [],
   "source": [
    "image=numpy.zeros((800,800,3))\n",
    "image.fill(0)\n",
    "image = image.astype(numpy.uint8)"
   ]
  },
  {
   "cell_type": "code",
   "execution_count": 3,
   "id": "fdd3d111",
   "metadata": {},
   "outputs": [],
   "source": [
    "black=[0,0,0]\n",
    "silver=[192,192,192]\n",
    "brown=[29,60,116]\n",
    "blue=(136,196,255)\n",
    "yellow=(60,255,255)\n",
    "#orange=[255,128,0]\n",
    "orange=(10,164,253)\n",
    "purple=(128,0,128)\n",
    "dark_blue=(0,0,62)\n",
    "white=(255,255,255)\n",
    "red=(6,6,253)"
   ]
  },
  {
   "cell_type": "code",
   "execution_count": 4,
   "id": "21e57fa0",
   "metadata": {},
   "outputs": [],
   "source": [
    "image[:, 0:800//2] = [192,192,192]      # (B, G, R)\n",
    "image[:, 800//2:800] = (10,164,253)\n",
    "image[:,]\n",
    "image=cv2.circle(image,(400,400),200,yellow,-1)\n",
    "image=cv2.ellipse(image,(300,265),(25,25),0,360,180,black,3)\n",
    "image=cv2.circle(image,(300,295),25,black,-1)\n",
    "image=cv2.ellipse(image,(500,265),(25,25),0,360,180,black,3)\n",
    "image=cv2.circle(image,(500,295),25,black,-1)\n",
    "image=cv2.circle(image,(290,280),5,white,-1)\n",
    "image=cv2.circle(image,(490,280),5,white,-1)\n",
    "image=cv2.ellipse(image,(400,420),(10,10),360,0,360,black,-1)\n",
    "image=cv2.ellipse(image,(400,500),(60,60),180,360,180,black,5)\n",
    "image=cv2.ellipse(image,(400,500),(55,55),180,360,180,white,-1)\n",
    "image=cv2.ellipse(image,(400,510),(40,40),180,360,180,red,-1)\n",
    "image=cv2.line(image,(340,500),(460,500),black,5)\n",
    "cv2.imshow(\"my photo\", image)\n",
    "cv2.waitKey()\n",
    "cv2.destroyAllWindows()\n",
    "#done message\n",
    "font = cv2.FONT_HERSHEY_SIMPLEX\n",
    "  \n",
    "# org\n",
    "org = (650, 150)\n",
    "  \n",
    "# fontScale\n",
    "fontScale = 1\n",
    "   \n",
    "# Blue color in BGR\n",
    "color = (255, 0, 0)\n",
    "  \n",
    "# Line thickness of 2 px\n",
    "thickness = 3\n",
    "   \n",
    "# Using cv2.putText() method\n",
    "image = cv2.putText(image, 'Done', org, font, \n",
    "                   fontScale, color, thickness, cv2.LINE_AA)\n",
    "   \n",
    "# Displaying the image\n",
    "cv2.imshow(\"my photo\", image)\n",
    "cv2.waitKey()\n",
    "cv2.destroyAllWindows()"
   ]
  },
  {
   "cell_type": "code",
   "execution_count": 5,
   "id": "f097d41f",
   "metadata": {},
   "outputs": [],
   "source": [
    "#cv2.imwrite(\"image1.jpg\",image)\n",
    "#from PIL import Image,ImageDraw\n",
    "#image=Image.open(R\"image1.jpg\")\n",
    "#image.show()"
   ]
  },
  {
   "cell_type": "markdown",
   "id": "f2e9439a",
   "metadata": {},
   "source": [
    "# Task 4.2: Crop some part of two images & swap them"
   ]
  },
  {
   "cell_type": "code",
   "execution_count": 6,
   "id": "10ab23b8",
   "metadata": {},
   "outputs": [],
   "source": [
    "import cv2\n",
    "import numpy as np"
   ]
  },
  {
   "cell_type": "code",
   "execution_count": 7,
   "id": "0b901541",
   "metadata": {},
   "outputs": [],
   "source": [
    "# imported photos of Kartik Aryan & Vijay Devarkonda\n",
    "kartik = cv2.imread('images/kartikaryan.jpg')\n",
    "vijay = cv2.imread('images/vijaydevarkonda.jpg')"
   ]
  },
  {
   "cell_type": "code",
   "execution_count": 8,
   "id": "cbfbf4fa",
   "metadata": {},
   "outputs": [],
   "source": [
    "# Viewing photo of Kartik Aryan\n",
    "cv2.imshow('Kartik Aryan', kartik)\n",
    "cv2.waitKey()\n",
    "cv2.destroyAllWindows()"
   ]
  },
  {
   "cell_type": "code",
   "execution_count": 9,
   "id": "0f2ef3e9",
   "metadata": {},
   "outputs": [],
   "source": [
    "kx1=200\n",
    "ky1=5\n",
    "kx2=420\n",
    "ky2=300\n",
    "# Crop Kartik Aryan face\n",
    "kartikFace = kartik[ky1:ky2,kx1:kx2]\n",
    "\n",
    "# Display face\n",
    "cv2.imshow(\"Kartik Aryan Cropped Face\", kartikFace)\n",
    "cv2.waitKey()\n",
    "cv2.destroyAllWindows()"
   ]
  },
  {
   "cell_type": "code",
   "execution_count": 10,
   "id": "d0fd4b3c",
   "metadata": {},
   "outputs": [
    {
     "data": {
      "text/plain": [
       "(516, 620, 3)"
      ]
     },
     "execution_count": 10,
     "metadata": {},
     "output_type": "execute_result"
    }
   ],
   "source": [
    "vijay.shape"
   ]
  },
  {
   "cell_type": "code",
   "execution_count": 11,
   "id": "49d7b8c6",
   "metadata": {},
   "outputs": [],
   "source": [
    "# Viewing photo of Vijay Devarkonda\n",
    "cv2.imshow('Vijay Devarkonda', vijay)\n",
    "cv2.waitKey()\n",
    "cv2.destroyAllWindows()"
   ]
  },
  {
   "cell_type": "code",
   "execution_count": 12,
   "id": "a444ce26",
   "metadata": {},
   "outputs": [],
   "source": [
    "vx1=300\n",
    "vy1=5\n",
    "vx2=510\n",
    "vy2=320\n",
    "# Crop Vijay Devarkonda face\n",
    "vijayFace = vijay[vy1:vy2, vx1:vx2]\n",
    "\n",
    "# Display face\n",
    "cv2.imshow(\"Vijay Devarkonda Cropped Face\", vijayFace)\n",
    "cv2.waitKey()\n",
    "cv2.destroyAllWindows()"
   ]
  },
  {
   "cell_type": "code",
   "execution_count": 13,
   "id": "fe2348e8",
   "metadata": {},
   "outputs": [
    {
     "data": {
      "text/plain": [
       "(315, 210, 3)"
      ]
     },
     "execution_count": 13,
     "metadata": {},
     "output_type": "execute_result"
    }
   ],
   "source": [
    "vijay[vy1:vy2, vx1:vx2].shape"
   ]
  },
  {
   "cell_type": "code",
   "execution_count": 14,
   "id": "e40943b1",
   "metadata": {},
   "outputs": [
    {
     "data": {
      "text/plain": [
       "(295, 220, 3)"
      ]
     },
     "execution_count": 14,
     "metadata": {},
     "output_type": "execute_result"
    }
   ],
   "source": [
    "kartik[ky1:ky2, kx1:kx2].shape"
   ]
  },
  {
   "cell_type": "code",
   "execution_count": 15,
   "id": "e173fe83",
   "metadata": {},
   "outputs": [],
   "source": [
    "kartik_resize = cv2.resize(kartikFace,(vijayFace.shape[1],vijayFace.shape[0]))\n",
    "vijay_resize = cv2.resize(vijayFace,(kartikFace.shape[1],kartikFace.shape[0]))"
   ]
  },
  {
   "cell_type": "code",
   "execution_count": 16,
   "id": "80da886c",
   "metadata": {},
   "outputs": [],
   "source": [
    "# Swap the face of Vijay Devarkonda with Kartik Aryan\n",
    "vijay[vy1:vy2, vx1:vx2] = kartik_resize\n",
    "\n",
    "cv2.imshow(\"swapped_with_kartik\", vijay)\n",
    "cv2.waitKey()\n",
    "cv2.destroyAllWindows()"
   ]
  },
  {
   "cell_type": "code",
   "execution_count": 17,
   "id": "aceb0e32",
   "metadata": {},
   "outputs": [],
   "source": [
    "# Swap the face of Kartik Aryan with Vijay Devarkonda\n",
    "kartik[ky1:ky2, kx1:kx2] = vijay_resize\n",
    "\n",
    "cv2.imshow(\"swapped_with_kartik\", kartik)\n",
    "cv2.waitKey()\n",
    "cv2.destroyAllWindows()"
   ]
  },
  {
   "cell_type": "markdown",
   "id": "9c307dd1",
   "metadata": {},
   "source": [
    "# Task 4.3: Combine two image to make single image"
   ]
  },
  {
   "cell_type": "code",
   "execution_count": 18,
   "id": "ad047abe",
   "metadata": {},
   "outputs": [],
   "source": [
    "img1= cv2.imread(\"images/men.jpg\")\n",
    "cv2.imshow(\"Men\", img1)\n",
    "cv2.waitKey()\n",
    "cv2.destroyAllWindows()"
   ]
  },
  {
   "cell_type": "code",
   "execution_count": 19,
   "id": "044faeed",
   "metadata": {},
   "outputs": [],
   "source": [
    "img2 = cv2.imread(\"images/women.jpg\")\n",
    "cv2.imshow(\"Women\", img2)\n",
    "cv2.waitKey()\n",
    "cv2.destroyAllWindows()"
   ]
  },
  {
   "cell_type": "code",
   "execution_count": 20,
   "id": "94cda249",
   "metadata": {},
   "outputs": [
    {
     "data": {
      "text/plain": [
       "numpy.ndarray"
      ]
     },
     "execution_count": 20,
     "metadata": {},
     "output_type": "execute_result"
    }
   ],
   "source": [
    "# Use numpy hstack function to combine\n",
    "f = np.hstack((img1,img2))\n",
    "type(f)"
   ]
  },
  {
   "cell_type": "code",
   "execution_count": 21,
   "id": "ea7ab367",
   "metadata": {},
   "outputs": [],
   "source": [
    "cv2.imshow(\"combine\", f)\n",
    "cv2.waitKey()\n",
    "cv2.destroyAllWindows()"
   ]
  },
  {
   "cell_type": "code",
   "execution_count": null,
   "id": "195139eb",
   "metadata": {},
   "outputs": [],
   "source": []
  }
 ],
 "metadata": {
  "kernelspec": {
   "display_name": "Python 3",
   "language": "python",
   "name": "python3"
  },
  "language_info": {
   "codemirror_mode": {
    "name": "ipython",
    "version": 3
   },
   "file_extension": ".py",
   "mimetype": "text/x-python",
   "name": "python",
   "nbconvert_exporter": "python",
   "pygments_lexer": "ipython3",
   "version": "3.8.3"
  }
 },
 "nbformat": 4,
 "nbformat_minor": 5
}
